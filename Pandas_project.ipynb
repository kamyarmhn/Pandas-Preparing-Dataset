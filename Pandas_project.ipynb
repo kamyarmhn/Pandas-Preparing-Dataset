{
  "nbformat": 4,
  "nbformat_minor": 0,
  "metadata": {
    "colab": {
      "provenance": [],
      "include_colab_link": true
    },
    "kernelspec": {
      "name": "python3",
      "display_name": "Python 3"
    },
    "language_info": {
      "name": "python"
    }
  },
  "cells": [
    {
      "cell_type": "markdown",
      "metadata": {
        "id": "view-in-github",
        "colab_type": "text"
      },
      "source": [
        "<a href=\"https://colab.research.google.com/github/kamyarmhn/Pandas-Preparing-Dataset/blob/main/Pandas_project.ipynb\" target=\"_parent\"><img src=\"https://colab.research.google.com/assets/colab-badge.svg\" alt=\"Open In Colab\"/></a>"
      ]
    },
    {
      "cell_type": "markdown",
      "source": [
        "# Pandas Assignment"
      ],
      "metadata": {
        "id": "GddONFGA4-d1"
      }
    },
    {
      "cell_type": "markdown",
      "source": [
        "In this notebook, you'll have a tour on the basics of Pandas library, the de facto standard tool of data analysis.\n",
        "\n",
        "Let's get started!"
      ],
      "metadata": {
        "id": "xmsztDzX5DD6"
      }
    },
    {
      "cell_type": "markdown",
      "source": [
        "## 1 - Packages\n",
        "Let's first import all the packages that you will need during this assignment.\n",
        "\n",
        "- ```numpy```, the fundamental package for scientific computing with Python\n",
        "- ```pandas```, the main tool to deal with tabular datasets\n",
        "- ```matplotlib```, ```seaborn``` and ```plotly```, libraries to plot graphs in Python\n",
        "- ```missingno```, missing data visualization module for Python\n",
        "- ```pycountry_convert```, a module of conversion functions between ISO country names, country-codes, and continent names\n",
        "- ```warnings```, whichi supplies several exception classes that represent warnings"
      ],
      "metadata": {
        "id": "viZuYLev8C9-"
      }
    },
    {
      "cell_type": "code",
      "source": [
        "!pip install -q pycountry_convert"
      ],
      "metadata": {
        "id": "pfQ5SN-xqifp"
      },
      "execution_count": 56,
      "outputs": []
    },
    {
      "cell_type": "code",
      "source": [
        "import numpy as np\n",
        "import pandas as pd\n",
        "import matplotlib.pyplot as plt\n",
        "import missingno as msno\n",
        "import seaborn as sns\n",
        "import warnings\n",
        "import chardet\n",
        "\n",
        "import plotly.express as px\n",
        "\n",
        "from pycountry_convert import country_alpha2_to_country_name, country_name_to_country_alpha3, country_alpha3_to_country_alpha2\n",
        "\n",
        "warnings.filterwarnings('ignore')\n",
        "%matplotlib notebook\n",
        "%matplotlib inline"
      ],
      "metadata": {
        "id": "15tUz7AjHtXs"
      },
      "execution_count": 57,
      "outputs": []
    },
    {
      "cell_type": "markdown",
      "source": [
        "## 2 - Dataset\n",
        "\n",
        "You'll use [**Book-Crossing Dataset**](http://www2.informatik.uni-freiburg.de/~cziegler/BX/), a dataset collected in a 4-week crawl from the Book-Crossing community and usually used for recommendation algorithms."
      ],
      "metadata": {
        "id": "zSJvA4kT9rLm"
      }
    },
    {
      "cell_type": "markdown",
      "source": [
        "First, download and extract the dataset using the following commands:"
      ],
      "metadata": {
        "id": "F0VL0RbS-cZ4"
      }
    },
    {
      "cell_type": "code",
      "execution_count": 58,
      "metadata": {
        "id": "WU6Nv_vqoUHK",
        "colab": {
          "base_uri": "https://localhost:8080/"
        },
        "outputId": "edb214bb-c8bf-4dad-946c-4d5a705ec4b0"
      },
      "outputs": [
        {
          "output_type": "stream",
          "name": "stdout",
          "text": [
            "--2023-07-19 16:39:58--  http://www2.informatik.uni-freiburg.de/~cziegler/BX/BX-CSV-Dump.zip\n",
            "Resolving www2.informatik.uni-freiburg.de (www2.informatik.uni-freiburg.de)... 132.230.105.133\n",
            "Connecting to www2.informatik.uni-freiburg.de (www2.informatik.uni-freiburg.de)|132.230.105.133|:80... connected.\n",
            "HTTP request sent, awaiting response... 200 OK\n",
            "Length: 26085508 (25M) [application/zip]\n",
            "Saving to: ‘BX-CSV-Dump.zip.1’\n",
            "\n",
            "BX-CSV-Dump.zip.1   100%[===================>]  24.88M  14.0MB/s    in 1.8s    \n",
            "\n",
            "2023-07-19 16:40:00 (14.0 MB/s) - ‘BX-CSV-Dump.zip.1’ saved [26085508/26085508]\n",
            "\n"
          ]
        }
      ],
      "source": [
        "!wget http://www2.informatik.uni-freiburg.de/~cziegler/BX/BX-CSV-Dump.zip"
      ]
    },
    {
      "cell_type": "code",
      "source": [
        "!unzip \"/content/BX-CSV-Dump.zip\""
      ],
      "metadata": {
        "id": "V7OfH_OMGgJi",
        "colab": {
          "base_uri": "https://localhost:8080/"
        },
        "outputId": "5302e44b-517b-467b-95d5-015654b20853"
      },
      "execution_count": 59,
      "outputs": [
        {
          "output_type": "stream",
          "name": "stdout",
          "text": [
            "Archive:  /content/BX-CSV-Dump.zip\n",
            "replace BX-Book-Ratings.csv? [y]es, [n]o, [A]ll, [N]one, [r]ename: A\n",
            "  inflating: BX-Book-Ratings.csv     \n",
            "  inflating: BX-Books.csv            \n",
            "  inflating: BX-Users.csv            \n"
          ]
        }
      ]
    },
    {
      "cell_type": "markdown",
      "source": [
        "## 3 - Data Preprocessing\n",
        "\n",
        "Next, you should read the ```BX-Users.csv``` file of the dataset with Pandas methods and investigate its dimensions:"
      ],
      "metadata": {
        "id": "dX2Gdjowogcj"
      }
    },
    {
      "cell_type": "code",
      "source": [
        "# GRADED CELL\n",
        "\n",
        "users_data_dir = \"/content/BX-Users.csv\"\n",
        "\n",
        "### START CODE HERE ### (≈ 1 line of code)\n",
        "\n",
        "users = pd.read_csv(users_data_dir, sep=';', warn_bad_lines=False, encoding=\"latin1\")\n",
        "\n",
        "### END CODE HERE ###"
      ],
      "metadata": {
        "id": "TUBjgl5JHDSG"
      },
      "execution_count": 60,
      "outputs": []
    },
    {
      "cell_type": "code",
      "source": [
        "print('The shape of Users is: ' + str(users.shape))"
      ],
      "metadata": {
        "id": "3Ai0LZEPILUu",
        "colab": {
          "base_uri": "https://localhost:8080/"
        },
        "outputId": "ac377df6-7f9b-428a-8c1f-a1bc405e2479"
      },
      "execution_count": 61,
      "outputs": [
        {
          "output_type": "stream",
          "name": "stdout",
          "text": [
            "The shape of Users is: (278858, 3)\n"
          ]
        }
      ]
    },
    {
      "cell_type": "code",
      "source": [
        "assert users.shape == (278858, 3)"
      ],
      "metadata": {
        "id": "UJ9T7gEIIQBj"
      },
      "execution_count": 62,
      "outputs": []
    },
    {
      "cell_type": "markdown",
      "source": [
        "Now we can have a glance at our dataset:"
      ],
      "metadata": {
        "id": "E-2c2L6iAk0b"
      }
    },
    {
      "cell_type": "code",
      "source": [
        "users.head()"
      ],
      "metadata": {
        "id": "ZgwjxarTIWWg",
        "colab": {
          "base_uri": "https://localhost:8080/",
          "height": 206
        },
        "outputId": "02f3950d-35d5-4e4d-edb2-1adabb42519b"
      },
      "execution_count": 63,
      "outputs": [
        {
          "output_type": "execute_result",
          "data": {
            "text/plain": [
              "   User-ID                            Location   Age\n",
              "0        1                  nyc, new york, usa   NaN\n",
              "1        2           stockton, california, usa  18.0\n",
              "2        3     moscow, yukon territory, russia   NaN\n",
              "3        4           porto, v.n.gaia, portugal  17.0\n",
              "4        5  farnborough, hants, united kingdom   NaN"
            ],
            "text/html": [
              "\n",
              "\n",
              "  <div id=\"df-4687836c-83d0-4183-a652-63a2e7df0cb6\">\n",
              "    <div class=\"colab-df-container\">\n",
              "      <div>\n",
              "<style scoped>\n",
              "    .dataframe tbody tr th:only-of-type {\n",
              "        vertical-align: middle;\n",
              "    }\n",
              "\n",
              "    .dataframe tbody tr th {\n",
              "        vertical-align: top;\n",
              "    }\n",
              "\n",
              "    .dataframe thead th {\n",
              "        text-align: right;\n",
              "    }\n",
              "</style>\n",
              "<table border=\"1\" class=\"dataframe\">\n",
              "  <thead>\n",
              "    <tr style=\"text-align: right;\">\n",
              "      <th></th>\n",
              "      <th>User-ID</th>\n",
              "      <th>Location</th>\n",
              "      <th>Age</th>\n",
              "    </tr>\n",
              "  </thead>\n",
              "  <tbody>\n",
              "    <tr>\n",
              "      <th>0</th>\n",
              "      <td>1</td>\n",
              "      <td>nyc, new york, usa</td>\n",
              "      <td>NaN</td>\n",
              "    </tr>\n",
              "    <tr>\n",
              "      <th>1</th>\n",
              "      <td>2</td>\n",
              "      <td>stockton, california, usa</td>\n",
              "      <td>18.0</td>\n",
              "    </tr>\n",
              "    <tr>\n",
              "      <th>2</th>\n",
              "      <td>3</td>\n",
              "      <td>moscow, yukon territory, russia</td>\n",
              "      <td>NaN</td>\n",
              "    </tr>\n",
              "    <tr>\n",
              "      <th>3</th>\n",
              "      <td>4</td>\n",
              "      <td>porto, v.n.gaia, portugal</td>\n",
              "      <td>17.0</td>\n",
              "    </tr>\n",
              "    <tr>\n",
              "      <th>4</th>\n",
              "      <td>5</td>\n",
              "      <td>farnborough, hants, united kingdom</td>\n",
              "      <td>NaN</td>\n",
              "    </tr>\n",
              "  </tbody>\n",
              "</table>\n",
              "</div>\n",
              "      <button class=\"colab-df-convert\" onclick=\"convertToInteractive('df-4687836c-83d0-4183-a652-63a2e7df0cb6')\"\n",
              "              title=\"Convert this dataframe to an interactive table.\"\n",
              "              style=\"display:none;\">\n",
              "\n",
              "  <svg xmlns=\"http://www.w3.org/2000/svg\" height=\"24px\"viewBox=\"0 0 24 24\"\n",
              "       width=\"24px\">\n",
              "    <path d=\"M0 0h24v24H0V0z\" fill=\"none\"/>\n",
              "    <path d=\"M18.56 5.44l.94 2.06.94-2.06 2.06-.94-2.06-.94-.94-2.06-.94 2.06-2.06.94zm-11 1L8.5 8.5l.94-2.06 2.06-.94-2.06-.94L8.5 2.5l-.94 2.06-2.06.94zm10 10l.94 2.06.94-2.06 2.06-.94-2.06-.94-.94-2.06-.94 2.06-2.06.94z\"/><path d=\"M17.41 7.96l-1.37-1.37c-.4-.4-.92-.59-1.43-.59-.52 0-1.04.2-1.43.59L10.3 9.45l-7.72 7.72c-.78.78-.78 2.05 0 2.83L4 21.41c.39.39.9.59 1.41.59.51 0 1.02-.2 1.41-.59l7.78-7.78 2.81-2.81c.8-.78.8-2.07 0-2.86zM5.41 20L4 18.59l7.72-7.72 1.47 1.35L5.41 20z\"/>\n",
              "  </svg>\n",
              "      </button>\n",
              "\n",
              "\n",
              "\n",
              "    <div id=\"df-9a48731e-430c-4b05-86b3-5ec436f94a98\">\n",
              "      <button class=\"colab-df-quickchart\" onclick=\"quickchart('df-9a48731e-430c-4b05-86b3-5ec436f94a98')\"\n",
              "              title=\"Suggest charts.\"\n",
              "              style=\"display:none;\">\n",
              "\n",
              "<svg xmlns=\"http://www.w3.org/2000/svg\" height=\"24px\"viewBox=\"0 0 24 24\"\n",
              "     width=\"24px\">\n",
              "    <g>\n",
              "        <path d=\"M19 3H5c-1.1 0-2 .9-2 2v14c0 1.1.9 2 2 2h14c1.1 0 2-.9 2-2V5c0-1.1-.9-2-2-2zM9 17H7v-7h2v7zm4 0h-2V7h2v10zm4 0h-2v-4h2v4z\"/>\n",
              "    </g>\n",
              "</svg>\n",
              "      </button>\n",
              "    </div>\n",
              "\n",
              "<style>\n",
              "  .colab-df-quickchart {\n",
              "    background-color: #E8F0FE;\n",
              "    border: none;\n",
              "    border-radius: 50%;\n",
              "    cursor: pointer;\n",
              "    display: none;\n",
              "    fill: #1967D2;\n",
              "    height: 32px;\n",
              "    padding: 0 0 0 0;\n",
              "    width: 32px;\n",
              "  }\n",
              "\n",
              "  .colab-df-quickchart:hover {\n",
              "    background-color: #E2EBFA;\n",
              "    box-shadow: 0px 1px 2px rgba(60, 64, 67, 0.3), 0px 1px 3px 1px rgba(60, 64, 67, 0.15);\n",
              "    fill: #174EA6;\n",
              "  }\n",
              "\n",
              "  [theme=dark] .colab-df-quickchart {\n",
              "    background-color: #3B4455;\n",
              "    fill: #D2E3FC;\n",
              "  }\n",
              "\n",
              "  [theme=dark] .colab-df-quickchart:hover {\n",
              "    background-color: #434B5C;\n",
              "    box-shadow: 0px 1px 3px 1px rgba(0, 0, 0, 0.15);\n",
              "    filter: drop-shadow(0px 1px 2px rgba(0, 0, 0, 0.3));\n",
              "    fill: #FFFFFF;\n",
              "  }\n",
              "</style>\n",
              "\n",
              "    <script>\n",
              "      async function quickchart(key) {\n",
              "        const containerElement = document.querySelector('#' + key);\n",
              "        const charts = await google.colab.kernel.invokeFunction(\n",
              "            'suggestCharts', [key], {});\n",
              "      }\n",
              "    </script>\n",
              "\n",
              "      <script>\n",
              "\n",
              "function displayQuickchartButton(domScope) {\n",
              "  let quickchartButtonEl =\n",
              "    domScope.querySelector('#df-9a48731e-430c-4b05-86b3-5ec436f94a98 button.colab-df-quickchart');\n",
              "  quickchartButtonEl.style.display =\n",
              "    google.colab.kernel.accessAllowed ? 'block' : 'none';\n",
              "}\n",
              "\n",
              "        displayQuickchartButton(document);\n",
              "      </script>\n",
              "      <style>\n",
              "    .colab-df-container {\n",
              "      display:flex;\n",
              "      flex-wrap:wrap;\n",
              "      gap: 12px;\n",
              "    }\n",
              "\n",
              "    .colab-df-convert {\n",
              "      background-color: #E8F0FE;\n",
              "      border: none;\n",
              "      border-radius: 50%;\n",
              "      cursor: pointer;\n",
              "      display: none;\n",
              "      fill: #1967D2;\n",
              "      height: 32px;\n",
              "      padding: 0 0 0 0;\n",
              "      width: 32px;\n",
              "    }\n",
              "\n",
              "    .colab-df-convert:hover {\n",
              "      background-color: #E2EBFA;\n",
              "      box-shadow: 0px 1px 2px rgba(60, 64, 67, 0.3), 0px 1px 3px 1px rgba(60, 64, 67, 0.15);\n",
              "      fill: #174EA6;\n",
              "    }\n",
              "\n",
              "    [theme=dark] .colab-df-convert {\n",
              "      background-color: #3B4455;\n",
              "      fill: #D2E3FC;\n",
              "    }\n",
              "\n",
              "    [theme=dark] .colab-df-convert:hover {\n",
              "      background-color: #434B5C;\n",
              "      box-shadow: 0px 1px 3px 1px rgba(0, 0, 0, 0.15);\n",
              "      filter: drop-shadow(0px 1px 2px rgba(0, 0, 0, 0.3));\n",
              "      fill: #FFFFFF;\n",
              "    }\n",
              "  </style>\n",
              "\n",
              "      <script>\n",
              "        const buttonEl =\n",
              "          document.querySelector('#df-4687836c-83d0-4183-a652-63a2e7df0cb6 button.colab-df-convert');\n",
              "        buttonEl.style.display =\n",
              "          google.colab.kernel.accessAllowed ? 'block' : 'none';\n",
              "\n",
              "        async function convertToInteractive(key) {\n",
              "          const element = document.querySelector('#df-4687836c-83d0-4183-a652-63a2e7df0cb6');\n",
              "          const dataTable =\n",
              "            await google.colab.kernel.invokeFunction('convertToInteractive',\n",
              "                                                     [key], {});\n",
              "          if (!dataTable) return;\n",
              "\n",
              "          const docLinkHtml = 'Like what you see? Visit the ' +\n",
              "            '<a target=\"_blank\" href=https://colab.research.google.com/notebooks/data_table.ipynb>data table notebook</a>'\n",
              "            + ' to learn more about interactive tables.';\n",
              "          element.innerHTML = '';\n",
              "          dataTable['output_type'] = 'display_data';\n",
              "          await google.colab.output.renderOutput(dataTable, element);\n",
              "          const docLink = document.createElement('div');\n",
              "          docLink.innerHTML = docLinkHtml;\n",
              "          element.appendChild(docLink);\n",
              "        }\n",
              "      </script>\n",
              "    </div>\n",
              "  </div>\n"
            ]
          },
          "metadata": {},
          "execution_count": 63
        }
      ]
    },
    {
      "cell_type": "markdown",
      "source": [
        "As you see, the raw dataset structure is not well-organized and needs to be processed.\n",
        "\n",
        "We'll start with column names. Rename the columns from `User-ID`, `Location` and `Age` to `userId`, `location` and `age`."
      ],
      "metadata": {
        "id": "tnyi8qLfAs60"
      }
    },
    {
      "cell_type": "code",
      "source": [
        "# GRADED CELL\n",
        "\n",
        "### START CODE HERE ### (≈ 1 line of code)\n",
        "users.columns = ['userId', 'location', 'age']\n",
        "\n",
        "### END CODE HERE ###"
      ],
      "metadata": {
        "id": "613zEVqFLNgf"
      },
      "execution_count": 64,
      "outputs": []
    },
    {
      "cell_type": "code",
      "source": [
        "assert list(users.columns) == ['userId', 'location', 'age']"
      ],
      "metadata": {
        "id": "jdprNcfYfyzf"
      },
      "execution_count": 65,
      "outputs": []
    },
    {
      "cell_type": "markdown",
      "source": [
        "Then, it's a good idea to check whether the dataset has some missing values or not. We use ```missingno``` to have a visualization for missing values:"
      ],
      "metadata": {
        "id": "6yVqwbmmBZuw"
      }
    },
    {
      "cell_type": "code",
      "source": [
        "msno.bar(users)"
      ],
      "metadata": {
        "id": "8YsdMLNcLa5i",
        "colab": {
          "base_uri": "https://localhost:8080/",
          "height": 761
        },
        "outputId": "af62e99b-099c-4956-e9b9-8f72059cd6fc"
      },
      "execution_count": 66,
      "outputs": [
        {
          "output_type": "execute_result",
          "data": {
            "text/plain": [
              "<Axes: >"
            ]
          },
          "metadata": {},
          "execution_count": 66
        },
        {
          "output_type": "display_data",
          "data": {
            "text/plain": [
              "<Figure size 2500x1000 with 3 Axes>"
            ],
            "image/png": "[encoded data removed]"
          },
          "metadata": {}
        }
      ]
    },
    {
      "cell_type": "markdown",
      "source": [
        "As shown below, We have many missing values in ```age``` column; So it's time to preprocess it:\n",
        "\n",
        "- Convert `age` data type to `float`.\n",
        "- Set the values of ages fewer than 5 to `np.nan`.\n",
        "- Set the values of ages greater than 110 to `np.nan`."
      ],
      "metadata": {
        "id": "URr76WTkCDWU"
      }
    },
    {
      "cell_type": "code",
      "source": [
        "# GRADED CELL\n",
        "\n",
        "### START CODE HERE ### (≈ 3-5 lines of code)\n",
        "users.age = users.age.astype(float)\n",
        "print(\"Users with age < 5: \", users.loc[users.age<5,'age'].count())\n",
        "print(\"Users with age > 110: \", users.loc[users.age > 110,'age'].count())\n",
        "users.loc[users.age < 5,'age'] = np.nan\n",
        "users.loc[users.age > 110,'age'] = np.nan\n",
        "\n",
        "### END CODE HERE ###"
      ],
      "metadata": {
        "id": "A399lIdHLgZJ",
        "colab": {
          "base_uri": "https://localhost:8080/"
        },
        "outputId": "c64c95d6-77c1-4581-bb59-a55a4ed85b0a"
      },
      "execution_count": 67,
      "outputs": [
        {
          "output_type": "stream",
          "name": "stdout",
          "text": [
            "Users with age < 5:  882\n",
            "Users with age > 110:  96\n"
          ]
        }
      ]
    },
    {
      "cell_type": "code",
      "source": [
        "assert len(users.loc[users.age < 5,'age']) == 0\n",
        "assert len(users.loc[users.age > 110,'age']) == 0"
      ],
      "metadata": {
        "id": "3ajfRJzKL8Kh"
      },
      "execution_count": 68,
      "outputs": []
    },
    {
      "cell_type": "markdown",
      "source": [
        "For imputing the missing values of `age` column, we use a normal distribution which its center is the mean of ages, its scale is the standard deviation of ages and its size will equal to the count of missing values in `age` column.\n",
        "\n"
      ],
      "metadata": {
        "id": "Uafj4aIWMjFJ"
      }
    },
    {
      "cell_type": "code",
      "source": [
        "temp_age_series = pd.Series(np.random.normal(\n",
        "    loc=users.age.mean(),\n",
        "    scale=users.age.std(),\n",
        "    size=users.userId[users.age.isna()].count()\n",
        "  ))\n",
        "print(\"Statistics of values in \\'users.age\\'\\n\",users.age.describe(),\"\\n\")\n",
        "print(\"Statistics of values we are going to use to fill NaN \\n\",temp_age_series.describe(),\"\\n\")\n",
        "print(\"Negative values in \\'temp_age_seires\\':\", temp_age_series[temp_age_series<0].count(),\"\\n\")"
      ],
      "metadata": {
        "id": "Ifpvg8-NVdGy",
        "colab": {
          "base_uri": "https://localhost:8080/"
        },
        "outputId": "38b3831c-b885-4b81-aa8f-98c3bed7d5b1"
      },
      "execution_count": 69,
      "outputs": [
        {
          "output_type": "stream",
          "name": "stdout",
          "text": [
            "Statistics of values in 'users.age'\n",
            " count    167118.000000\n",
            "mean         34.858244\n",
            "std          13.901748\n",
            "min           5.000000\n",
            "25%          24.000000\n",
            "50%          32.000000\n",
            "75%          44.000000\n",
            "max         110.000000\n",
            "Name: age, dtype: float64 \n",
            "\n",
            "Statistics of values we are going to use to fill NaN \n",
            " count    111740.000000\n",
            "mean         34.939079\n",
            "std          13.918025\n",
            "min         -26.504516\n",
            "25%          25.603532\n",
            "50%          34.913384\n",
            "75%          44.379100\n",
            "max          94.484816\n",
            "dtype: float64 \n",
            "\n",
            "Negative values in 'temp_age_seires': 684 \n",
            "\n"
          ]
        }
      ]
    },
    {
      "cell_type": "markdown",
      "source": [
        "As we can see the distribution does not change a lot. There are some negative values thought. However, we can ignore them and use an absolute version of the distribution for imputation."
      ],
      "metadata": {
        "id": "HOYFm8kCOXQw"
      }
    },
    {
      "cell_type": "markdown",
      "source": [
        "\n",
        "\n",
        "```\n",
        "# This is formatted as code\n",
        "```\n",
        "\n",
        "\n",
        "\n",
        "1.   Take the absolute values of `temp_age_series`."
      ],
      "metadata": {
        "id": "99ezAzT2Onbn"
      }
    },
    {
      "cell_type": "code",
      "source": [
        "# GRADED CELL\n",
        "\n",
        "### START CODE HERE ### (≈ 1 line of code)\n",
        "pos_age_series = np.abs(temp_age_series)\n",
        "\n",
        "### END CODE HERE ###"
      ],
      "metadata": {
        "id": "ITaZpzXxXQYg"
      },
      "execution_count": 70,
      "outputs": []
    },
    {
      "cell_type": "markdown",
      "source": [
        "2.   Sort users dataframe so as NaN values in age to be first and reset index to match with index of `pos_age_series`.\n",
        "3. Use `fillna` method for imputation."
      ],
      "metadata": {
        "id": "t3BqZmcjP8Nq"
      }
    },
    {
      "cell_type": "code",
      "source": [
        "# GRADED CELL\n",
        "\n",
        "### START CODE HERE ### (≈ 2 lines of code)\n",
        "\n",
        "\n",
        "users = users.sort_values('age',na_position='first').reset_index(drop=True)\n",
        "users.age.fillna(pos_age_series, inplace = True)\n",
        "\n",
        "### END CODE HERE ###"
      ],
      "metadata": {
        "id": "kK1XZJzpbXM_"
      },
      "execution_count": 71,
      "outputs": []
    },
    {
      "cell_type": "markdown",
      "source": [
        "4. Replace values fewer than  5 with the mean().\n",
        "5. Round age values and convert them to `int`.\n",
        "6. Sort users based on `userId` so as to be the same as before."
      ],
      "metadata": {
        "id": "H0fflRMzP_tl"
      }
    },
    {
      "cell_type": "code",
      "source": [
        "# GRADED CELL\n",
        "\n",
        "### START CODE HERE ### (≈ 3-4 lines of code)\n",
        "\n",
        "users.loc[users.age<5, 'age'] = users.age.mean()\n",
        "users.age = users.age.round().astype(int)\n",
        "users = users.sort_values('userId').reset_index(drop=True)\n",
        "print(users.age.describe(),\"\\n\")\n",
        "\n",
        "\n",
        "### END CODE HERE ###"
      ],
      "metadata": {
        "id": "u2r7ixPxbZjX",
        "colab": {
          "base_uri": "https://localhost:8080/"
        },
        "outputId": "09acb382-1938-409d-bbb7-ec7a3a303195"
      },
      "execution_count": 72,
      "outputs": [
        {
          "output_type": "stream",
          "name": "stdout",
          "text": [
            "count    278858.000000\n",
            "mean         35.091577\n",
            "std          13.640961\n",
            "min           5.000000\n",
            "25%          25.000000\n",
            "50%          34.000000\n",
            "75%          44.000000\n",
            "max         110.000000\n",
            "Name: age, dtype: float64 \n",
            "\n"
          ]
        }
      ]
    },
    {
      "cell_type": "markdown",
      "source": [
        "Now it's time for visualiztion. Let's see what we did on ages:"
      ],
      "metadata": {
        "id": "S0LCnBRrQDOj"
      }
    },
    {
      "cell_type": "code",
      "source": [
        "plt.figure(figsize=(20,10))\n",
        "sns.histplot(users['age'], discrete = True)\n",
        "plt.xlabel('Age')\n",
        "plt.ylabel('count')\n",
        "plt.title('Age Distribution',size=20)\n",
        "plt.show()"
      ],
      "metadata": {
        "id": "3my0wAGPMAcY",
        "colab": {
          "base_uri": "https://localhost:8080/",
          "height": 854
        },
        "outputId": "7b3be4d4-c69f-40b6-db64-6966dd992651"
      },
      "execution_count": 73,
      "outputs": [
        {
          "output_type": "display_data",
          "data": {
            "text/plain": [
              "<Figure size 2000x1000 with 1 Axes>"
            ],
            "image/png": "[encoded data removed]"
          },
          "metadata": {}
        }
      ]
    },
    {
      "cell_type": "markdown",
      "source": [
        "*After* ages, now we'll work on `location` column."
      ],
      "metadata": {
        "id": "fia8VoXRQii2"
      }
    },
    {
      "cell_type": "code",
      "source": [
        "users.head()"
      ],
      "metadata": {
        "id": "0SlZqHFvZ0Cc",
        "colab": {
          "base_uri": "https://localhost:8080/",
          "height": 206
        },
        "outputId": "6657c801-adab-4f94-c488-91ae0241f8d6"
      },
      "execution_count": 74,
      "outputs": [
        {
          "output_type": "execute_result",
          "data": {
            "text/plain": [
              "   userId                            location  age\n",
              "0       1                  nyc, new york, usa   49\n",
              "1       2           stockton, california, usa   18\n",
              "2       3     moscow, yukon territory, russia   37\n",
              "3       4           porto, v.n.gaia, portugal   17\n",
              "4       5  farnborough, hants, united kingdom   45"
            ],
            "text/html": [
              "\n",
              "\n",
              "  <div id=\"df-5681b6dc-3154-4a9c-a0ac-978f8f0416bc\">\n",
              "    <div class=\"colab-df-container\">\n",
              "      <div>\n",
              "<style scoped>\n",
              "    .dataframe tbody tr th:only-of-type {\n",
              "        vertical-align: middle;\n",
              "    }\n",
              "\n",
              "    .dataframe tbody tr th {\n",
              "        vertical-align: top;\n",
              "    }\n",
              "\n",
              "    .dataframe thead th {\n",
              "        text-align: right;\n",
              "    }\n",
              "</style>\n",
              "<table border=\"1\" class=\"dataframe\">\n",
              "  <thead>\n",
              "    <tr style=\"text-align: right;\">\n",
              "      <th></th>\n",
              "      <th>userId</th>\n",
              "      <th>location</th>\n",
              "      <th>age</th>\n",
              "    </tr>\n",
              "  </thead>\n",
              "  <tbody>\n",
              "    <tr>\n",
              "      <th>0</th>\n",
              "      <td>1</td>\n",
              "      <td>nyc, new york, usa</td>\n",
              "      <td>49</td>\n",
              "    </tr>\n",
              "    <tr>\n",
              "      <th>1</th>\n",
              "      <td>2</td>\n",
              "      <td>stockton, california, usa</td>\n",
              "      <td>18</td>\n",
              "    </tr>\n",
              "    <tr>\n",
              "      <th>2</th>\n",
              "      <td>3</td>\n",
              "      <td>moscow, yukon territory, russia</td>\n",
              "      <td>37</td>\n",
              "    </tr>\n",
              "    <tr>\n",
              "      <th>3</th>\n",
              "      <td>4</td>\n",
              "      <td>porto, v.n.gaia, portugal</td>\n",
              "      <td>17</td>\n",
              "    </tr>\n",
              "    <tr>\n",
              "      <th>4</th>\n",
              "      <td>5</td>\n",
              "      <td>farnborough, hants, united kingdom</td>\n",
              "      <td>45</td>\n",
              "    </tr>\n",
              "  </tbody>\n",
              "</table>\n",
              "</div>\n",
              "      <button class=\"colab-df-convert\" onclick=\"convertToInteractive('df-5681b6dc-3154-4a9c-a0ac-978f8f0416bc')\"\n",
              "              title=\"Convert this dataframe to an interactive table.\"\n",
              "              style=\"display:none;\">\n",
              "\n",
              "  <svg xmlns=\"http://www.w3.org/2000/svg\" height=\"24px\"viewBox=\"0 0 24 24\"\n",
              "       width=\"24px\">\n",
              "    <path d=\"M0 0h24v24H0V0z\" fill=\"none\"/>\n",
              "    <path d=\"M18.56 5.44l.94 2.06.94-2.06 2.06-.94-2.06-.94-.94-2.06-.94 2.06-2.06.94zm-11 1L8.5 8.5l.94-2.06 2.06-.94-2.06-.94L8.5 2.5l-.94 2.06-2.06.94zm10 10l.94 2.06.94-2.06 2.06-.94-2.06-.94-.94-2.06-.94 2.06-2.06.94z\"/><path d=\"M17.41 7.96l-1.37-1.37c-.4-.4-.92-.59-1.43-.59-.52 0-1.04.2-1.43.59L10.3 9.45l-7.72 7.72c-.78.78-.78 2.05 0 2.83L4 21.41c.39.39.9.59 1.41.59.51 0 1.02-.2 1.41-.59l7.78-7.78 2.81-2.81c.8-.78.8-2.07 0-2.86zM5.41 20L4 18.59l7.72-7.72 1.47 1.35L5.41 20z\"/>\n",
              "  </svg>\n",
              "      </button>\n",
              "\n",
              "\n",
              "\n",
              "    <div id=\"df-b1946b56-1038-49fb-a902-bbcccdbc6b75\">\n",
              "      <button class=\"colab-df-quickchart\" onclick=\"quickchart('df-b1946b56-1038-49fb-a902-bbcccdbc6b75')\"\n",
              "              title=\"Suggest charts.\"\n",
              "              style=\"display:none;\">\n",
              "\n",
              "<svg xmlns=\"http://www.w3.org/2000/svg\" height=\"24px\"viewBox=\"0 0 24 24\"\n",
              "     width=\"24px\">\n",
              "    <g>\n",
              "        <path d=\"M19 3H5c-1.1 0-2 .9-2 2v14c0 1.1.9 2 2 2h14c1.1 0 2-.9 2-2V5c0-1.1-.9-2-2-2zM9 17H7v-7h2v7zm4 0h-2V7h2v10zm4 0h-2v-4h2v4z\"/>\n",
              "    </g>\n",
              "</svg>\n",
              "      </button>\n",
              "    </div>\n",
              "\n",
              "<style>\n",
              "  .colab-df-quickchart {\n",
              "    background-color: #E8F0FE;\n",
              "    border: none;\n",
              "    border-radius: 50%;\n",
              "    cursor: pointer;\n",
              "    display: none;\n",
              "    fill: #1967D2;\n",
              "    height: 32px;\n",
              "    padding: 0 0 0 0;\n",
              "    width: 32px;\n",
              "  }\n",
              "\n",
              "  .colab-df-quickchart:hover {\n",
              "    background-color: #E2EBFA;\n",
              "    box-shadow: 0px 1px 2px rgba(60, 64, 67, 0.3), 0px 1px 3px 1px rgba(60, 64, 67, 0.15);\n",
              "    fill: #174EA6;\n",
              "  }\n",
              "\n",
              "  [theme=dark] .colab-df-quickchart {\n",
              "    background-color: #3B4455;\n",
              "    fill: #D2E3FC;\n",
              "  }\n",
              "\n",
              "  [theme=dark] .colab-df-quickchart:hover {\n",
              "    background-color: #434B5C;\n",
              "    box-shadow: 0px 1px 3px 1px rgba(0, 0, 0, 0.15);\n",
              "    filter: drop-shadow(0px 1px 2px rgba(0, 0, 0, 0.3));\n",
              "    fill: #FFFFFF;\n",
              "  }\n",
              "</style>\n",
              "\n",
              "    <script>\n",
              "      async function quickchart(key) {\n",
              "        const containerElement = document.querySelector('#' + key);\n",
              "        const charts = await google.colab.kernel.invokeFunction(\n",
              "            'suggestCharts', [key], {});\n",
              "      }\n",
              "    </script>\n",
              "\n",
              "      <script>\n",
              "\n",
              "function displayQuickchartButton(domScope) {\n",
              "  let quickchartButtonEl =\n",
              "    domScope.querySelector('#df-b1946b56-1038-49fb-a902-bbcccdbc6b75 button.colab-df-quickchart');\n",
              "  quickchartButtonEl.style.display =\n",
              "    google.colab.kernel.accessAllowed ? 'block' : 'none';\n",
              "}\n",
              "\n",
              "        displayQuickchartButton(document);\n",
              "      </script>\n",
              "      <style>\n",
              "    .colab-df-container {\n",
              "      display:flex;\n",
              "      flex-wrap:wrap;\n",
              "      gap: 12px;\n",
              "    }\n",
              "\n",
              "    .colab-df-convert {\n",
              "      background-color: #E8F0FE;\n",
              "      border: none;\n",
              "      border-radius: 50%;\n",
              "      cursor: pointer;\n",
              "      display: none;\n",
              "      fill: #1967D2;\n",
              "      height: 32px;\n",
              "      padding: 0 0 0 0;\n",
              "      width: 32px;\n",
              "    }\n",
              "\n",
              "    .colab-df-convert:hover {\n",
              "      background-color: #E2EBFA;\n",
              "      box-shadow: 0px 1px 2px rgba(60, 64, 67, 0.3), 0px 1px 3px 1px rgba(60, 64, 67, 0.15);\n",
              "      fill: #174EA6;\n",
              "    }\n",
              "\n",
              "    [theme=dark] .colab-df-convert {\n",
              "      background-color: #3B4455;\n",
              "      fill: #D2E3FC;\n",
              "    }\n",
              "\n",
              "    [theme=dark] .colab-df-convert:hover {\n",
              "      background-color: #434B5C;\n",
              "      box-shadow: 0px 1px 3px 1px rgba(0, 0, 0, 0.15);\n",
              "      filter: drop-shadow(0px 1px 2px rgba(0, 0, 0, 0.3));\n",
              "      fill: #FFFFFF;\n",
              "    }\n",
              "  </style>\n",
              "\n",
              "      <script>\n",
              "        const buttonEl =\n",
              "          document.querySelector('#df-5681b6dc-3154-4a9c-a0ac-978f8f0416bc button.colab-df-convert');\n",
              "        buttonEl.style.display =\n",
              "          google.colab.kernel.accessAllowed ? 'block' : 'none';\n",
              "\n",
              "        async function convertToInteractive(key) {\n",
              "          const element = document.querySelector('#df-5681b6dc-3154-4a9c-a0ac-978f8f0416bc');\n",
              "          const dataTable =\n",
              "            await google.colab.kernel.invokeFunction('convertToInteractive',\n",
              "                                                     [key], {});\n",
              "          if (!dataTable) return;\n",
              "\n",
              "          const docLinkHtml = 'Like what you see? Visit the ' +\n",
              "            '<a target=\"_blank\" href=https://colab.research.google.com/notebooks/data_table.ipynb>data table notebook</a>'\n",
              "            + ' to learn more about interactive tables.';\n",
              "          element.innerHTML = '';\n",
              "          dataTable['output_type'] = 'display_data';\n",
              "          await google.colab.output.renderOutput(dataTable, element);\n",
              "          const docLink = document.createElement('div');\n",
              "          docLink.innerHTML = docLinkHtml;\n",
              "          element.appendChild(docLink);\n",
              "        }\n",
              "      </script>\n",
              "    </div>\n",
              "  </div>\n"
            ]
          },
          "metadata": {},
          "execution_count": 74
        }
      ]
    },
    {
      "cell_type": "markdown",
      "source": [
        "The information of this column is so messy and wasted. What should we do?\n",
        "\n",
        "1. Split this column into three new columns: `city`, `state` and `country`."
      ],
      "metadata": {
        "id": "x3TZuD5UQt15"
      }
    },
    {
      "cell_type": "code",
      "source": [
        "# GRADED CELL\n",
        "\n",
        "### START CODE HERE ### (≈ 2 lines of code)\n",
        "user_location_expanded=users.location.str.split(', ', n=2, expand=True)\n",
        "user_location_expanded.columns=['city', 'state', 'country']\n",
        "### END CODE HERE ###"
      ],
      "metadata": {
        "id": "H6Q4CQ8jZjZ5"
      },
      "execution_count": 75,
      "outputs": []
    },
    {
      "cell_type": "markdown",
      "source": [
        "\n",
        "\n",
        "```\n",
        "# This is formatted as code\n",
        "```\n",
        "\n",
        "2. Add these three columns into `users` dataframe and remove `location` column."
      ],
      "metadata": {
        "id": "3LR0xJmHSiCi"
      }
    },
    {
      "cell_type": "code",
      "source": [
        "# GRADED CELL\n",
        "\n",
        "### START CODE HERE ### (≈ 2 lines of code)\n",
        "users = users.join(user_location_expanded)\n",
        "users.drop(columns=['location'], inplace=True)\n",
        "### END CODE HERE ###"
      ],
      "metadata": {
        "id": "pyVN4OE5cUbC"
      },
      "execution_count": 76,
      "outputs": []
    },
    {
      "cell_type": "markdown",
      "source": [
        "3. Some rows have `state` column with `,` value. Change their value into `other`.\n",
        "4. Some rows have `state` column with `\"\"`, `n.a`, `*` and `\\\\n/a\\\\` values. Change their values into `n/a`.\n",
        "5. Fill other possible NaN values of `state` column with `other` ."
      ],
      "metadata": {
        "id": "KHN0cRu4SlxT"
      }
    },
    {
      "cell_type": "code",
      "source": [
        "# GRADED CELL\n",
        "\n",
        "### START CODE HERE ### (≈ 3-6 lines of code)\n",
        "users.loc[users.state==',', ['state', 'country']] = 'other'\n",
        "users.loc[(users.state=='\\\\n/a\\\\\"') | (users.state=='') | (users.state=='*') | (users.state=='n.a'), ['state']] = 'n/a'\n",
        "users.state.fillna('other', inplace=True)\n",
        "\n",
        "### END CODE HERE ###"
      ],
      "metadata": {
        "id": "sgxzHs50esKF"
      },
      "execution_count": 77,
      "outputs": []
    },
    {
      "cell_type": "markdown",
      "source": [
        "6. Some rows have `country` column with `,` value. Change their value into `other`.\n",
        "7. Fill other possible NaN values of `stateCOUNTRY` column with `n/a`."
      ],
      "metadata": {
        "id": "ag3VYpB-SzsA"
      }
    },
    {
      "cell_type": "code",
      "source": [
        "# GRADED CELL\n",
        "\n",
        "### START CODE HERE ### (≈ 2 lines of code)\n",
        "users.loc[users.country==',', ['country']] = 'other'\n",
        "users.fillna('n/a', inplace=True)\n",
        "\n",
        "### END CODE HERE ###"
      ],
      "metadata": {
        "id": "I3vtNdHye0mz"
      },
      "execution_count": 78,
      "outputs": []
    },
    {
      "cell_type": "markdown",
      "source": [
        "*Finally*, change the data type of two `age` and `userId` columns to `int`."
      ],
      "metadata": {
        "id": "g-Htx8dATjbA"
      }
    },
    {
      "cell_type": "code",
      "source": [
        "# GRADED CELL\n",
        "\n",
        "### START CODE HERE ### (≈ 2 lines of code)\n",
        "users['age'] = users['age'].astype(int)\n",
        "users['userId'] = users['userId'].astype(int)\n",
        "\n",
        "### END CODE HERE ###"
      ],
      "metadata": {
        "id": "sSm0_wvTfAuy"
      },
      "execution_count": 79,
      "outputs": []
    },
    {
      "cell_type": "markdown",
      "source": [
        "Now we want to have an interactive visualization. For that, we need to reformat contry names w.r.t the following functions:"
      ],
      "metadata": {
        "id": "ZnEHW1r7UEiz"
      }
    },
    {
      "cell_type": "code",
      "source": [
        "def get_alpha3(col):\n",
        "    try:\n",
        "        iso_3 =  country_name_to_country_alpha3(col, cn_name_format=\"lower\")\n",
        "    except:\n",
        "        iso_3 = 'Unknown'\n",
        "    return iso_3\n",
        "\n",
        "def get_name(col):\n",
        "    try:\n",
        "        name =  country_alpha2_to_country_name(country_alpha3_to_country_alpha2(col))\n",
        "    except:\n",
        "        name = 'Unknown'\n",
        "    return name"
      ],
      "metadata": {
        "id": "oRQANhS_qaqc"
      },
      "execution_count": 81,
      "outputs": []
    },
    {
      "cell_type": "markdown",
      "source": [
        "We copy the dataframe to avoid unexpected overwritten results on the main dataframe. Then:\n",
        "\n",
        "1. Apply `get_alpha3` function to `country` column of the dataframe.\n",
        "2. Apply `get_name` function to `country` column of the dataframe."
      ],
      "metadata": {
        "id": "O-5w88VberUX"
      }
    },
    {
      "cell_type": "code",
      "source": [
        "users_copy = users.copy()"
      ],
      "metadata": {
        "id": "DipJkjimqyF6"
      },
      "execution_count": 82,
      "outputs": []
    },
    {
      "cell_type": "code",
      "source": [
        "# GRADED CELL\n",
        "\n",
        "### START CODE HERE ### (≈ 2 lines of code)\n",
        "users_copy['alpha_3'] = users_copy['country'].apply(get_alpha3)\n",
        "users_copy['alpha_3'].loc[users_copy.country == 'usa'] = 'USA'\n",
        "users_copy['country'] = users_copy['alpha_3'].apply(get_name)\n",
        "### END CODE HERE ###"
      ],
      "metadata": {
        "id": "hVDPT46Q0Bp4"
      },
      "execution_count": 83,
      "outputs": []
    },
    {
      "cell_type": "code",
      "source": [
        "users_copy.head()"
      ],
      "metadata": {
        "id": "FZYNO_T6q_UM",
        "colab": {
          "base_uri": "https://localhost:8080/",
          "height": 206
        },
        "outputId": "906fea94-fe78-4ca6-cd87-0b4b25984c29"
      },
      "execution_count": 84,
      "outputs": [
        {
          "output_type": "execute_result",
          "data": {
            "text/plain": [
              "   userId  age         city            state             country alpha_3\n",
              "0       1   49          nyc         new york       United States     USA\n",
              "1       2   18     stockton       california       United States     USA\n",
              "2       3   37       moscow  yukon territory  Russian Federation     RUS\n",
              "3       4   17        porto         v.n.gaia            Portugal     PRT\n",
              "4       5   45  farnborough            hants      United Kingdom     GBR"
            ],
            "text/html": [
              "\n",
              "\n",
              "  <div id=\"df-81c157e0-dc0e-4aba-99b6-a68993ce9b11\">\n",
              "    <div class=\"colab-df-container\">\n",
              "      <div>\n",
              "<style scoped>\n",
              "    .dataframe tbody tr th:only-of-type {\n",
              "        vertical-align: middle;\n",
              "    }\n",
              "\n",
              "    .dataframe tbody tr th {\n",
              "        vertical-align: top;\n",
              "    }\n",
              "\n",
              "    .dataframe thead th {\n",
              "        text-align: right;\n",
              "    }\n",
              "</style>\n",
              "<table border=\"1\" class=\"dataframe\">\n",
              "  <thead>\n",
              "    <tr style=\"text-align: right;\">\n",
              "      <th></th>\n",
              "      <th>userId</th>\n",
              "      <th>age</th>\n",
              "      <th>city</th>\n",
              "      <th>state</th>\n",
              "      <th>country</th>\n",
              "      <th>alpha_3</th>\n",
              "    </tr>\n",
              "  </thead>\n",
              "  <tbody>\n",
              "    <tr>\n",
              "      <th>0</th>\n",
              "      <td>1</td>\n",
              "      <td>49</td>\n",
              "      <td>nyc</td>\n",
              "      <td>new york</td>\n",
              "      <td>United States</td>\n",
              "      <td>USA</td>\n",
              "    </tr>\n",
              "    <tr>\n",
              "      <th>1</th>\n",
              "      <td>2</td>\n",
              "      <td>18</td>\n",
              "      <td>stockton</td>\n",
              "      <td>california</td>\n",
              "      <td>United States</td>\n",
              "      <td>USA</td>\n",
              "    </tr>\n",
              "    <tr>\n",
              "      <th>2</th>\n",
              "      <td>3</td>\n",
              "      <td>37</td>\n",
              "      <td>moscow</td>\n",
              "      <td>yukon territory</td>\n",
              "      <td>Russian Federation</td>\n",
              "      <td>RUS</td>\n",
              "    </tr>\n",
              "    <tr>\n",
              "      <th>3</th>\n",
              "      <td>4</td>\n",
              "      <td>17</td>\n",
              "      <td>porto</td>\n",
              "      <td>v.n.gaia</td>\n",
              "      <td>Portugal</td>\n",
              "      <td>PRT</td>\n",
              "    </tr>\n",
              "    <tr>\n",
              "      <th>4</th>\n",
              "      <td>5</td>\n",
              "      <td>45</td>\n",
              "      <td>farnborough</td>\n",
              "      <td>hants</td>\n",
              "      <td>United Kingdom</td>\n",
              "      <td>GBR</td>\n",
              "    </tr>\n",
              "  </tbody>\n",
              "</table>\n",
              "</div>\n",
              "      <button class=\"colab-df-convert\" onclick=\"convertToInteractive('df-81c157e0-dc0e-4aba-99b6-a68993ce9b11')\"\n",
              "              title=\"Convert this dataframe to an interactive table.\"\n",
              "              style=\"display:none;\">\n",
              "\n",
              "  <svg xmlns=\"http://www.w3.org/2000/svg\" height=\"24px\"viewBox=\"0 0 24 24\"\n",
              "       width=\"24px\">\n",
              "    <path d=\"M0 0h24v24H0V0z\" fill=\"none\"/>\n",
              "    <path d=\"M18.56 5.44l.94 2.06.94-2.06 2.06-.94-2.06-.94-.94-2.06-.94 2.06-2.06.94zm-11 1L8.5 8.5l.94-2.06 2.06-.94-2.06-.94L8.5 2.5l-.94 2.06-2.06.94zm10 10l.94 2.06.94-2.06 2.06-.94-2.06-.94-.94-2.06-.94 2.06-2.06.94z\"/><path d=\"M17.41 7.96l-1.37-1.37c-.4-.4-.92-.59-1.43-.59-.52 0-1.04.2-1.43.59L10.3 9.45l-7.72 7.72c-.78.78-.78 2.05 0 2.83L4 21.41c.39.39.9.59 1.41.59.51 0 1.02-.2 1.41-.59l7.78-7.78 2.81-2.81c.8-.78.8-2.07 0-2.86zM5.41 20L4 18.59l7.72-7.72 1.47 1.35L5.41 20z\"/>\n",
              "  </svg>\n",
              "      </button>\n",
              "\n",
              "\n",
              "\n",
              "    <div id=\"df-0250e0b8-c1b5-4e24-9dc7-bcf6e8a504ca\">\n",
              "      <button class=\"colab-df-quickchart\" onclick=\"quickchart('df-0250e0b8-c1b5-4e24-9dc7-bcf6e8a504ca')\"\n",
              "              title=\"Suggest charts.\"\n",
              "              style=\"display:none;\">\n",
              "\n",
              "<svg xmlns=\"http://www.w3.org/2000/svg\" height=\"24px\"viewBox=\"0 0 24 24\"\n",
              "     width=\"24px\">\n",
              "    <g>\n",
              "        <path d=\"M19 3H5c-1.1 0-2 .9-2 2v14c0 1.1.9 2 2 2h14c1.1 0 2-.9 2-2V5c0-1.1-.9-2-2-2zM9 17H7v-7h2v7zm4 0h-2V7h2v10zm4 0h-2v-4h2v4z\"/>\n",
              "    </g>\n",
              "</svg>\n",
              "      </button>\n",
              "    </div>\n",
              "\n",
              "<style>\n",
              "  .colab-df-quickchart {\n",
              "    background-color: #E8F0FE;\n",
              "    border: none;\n",
              "    border-radius: 50%;\n",
              "    cursor: pointer;\n",
              "    display: none;\n",
              "    fill: #1967D2;\n",
              "    height: 32px;\n",
              "    padding: 0 0 0 0;\n",
              "    width: 32px;\n",
              "  }\n",
              "\n",
              "  .colab-df-quickchart:hover {\n",
              "    background-color: #E2EBFA;\n",
              "    box-shadow: 0px 1px 2px rgba(60, 64, 67, 0.3), 0px 1px 3px 1px rgba(60, 64, 67, 0.15);\n",
              "    fill: #174EA6;\n",
              "  }\n",
              "\n",
              "  [theme=dark] .colab-df-quickchart {\n",
              "    background-color: #3B4455;\n",
              "    fill: #D2E3FC;\n",
              "  }\n",
              "\n",
              "  [theme=dark] .colab-df-quickchart:hover {\n",
              "    background-color: #434B5C;\n",
              "    box-shadow: 0px 1px 3px 1px rgba(0, 0, 0, 0.15);\n",
              "    filter: drop-shadow(0px 1px 2px rgba(0, 0, 0, 0.3));\n",
              "    fill: #FFFFFF;\n",
              "  }\n",
              "</style>\n",
              "\n",
              "    <script>\n",
              "      async function quickchart(key) {\n",
              "        const containerElement = document.querySelector('#' + key);\n",
              "        const charts = await google.colab.kernel.invokeFunction(\n",
              "            'suggestCharts', [key], {});\n",
              "      }\n",
              "    </script>\n",
              "\n",
              "      <script>\n",
              "\n",
              "function displayQuickchartButton(domScope) {\n",
              "  let quickchartButtonEl =\n",
              "    domScope.querySelector('#df-0250e0b8-c1b5-4e24-9dc7-bcf6e8a504ca button.colab-df-quickchart');\n",
              "  quickchartButtonEl.style.display =\n",
              "    google.colab.kernel.accessAllowed ? 'block' : 'none';\n",
              "}\n",
              "\n",
              "        displayQuickchartButton(document);\n",
              "      </script>\n",
              "      <style>\n",
              "    .colab-df-container {\n",
              "      display:flex;\n",
              "      flex-wrap:wrap;\n",
              "      gap: 12px;\n",
              "    }\n",
              "\n",
              "    .colab-df-convert {\n",
              "      background-color: #E8F0FE;\n",
              "      border: none;\n",
              "      border-radius: 50%;\n",
              "      cursor: pointer;\n",
              "      display: none;\n",
              "      fill: #1967D2;\n",
              "      height: 32px;\n",
              "      padding: 0 0 0 0;\n",
              "      width: 32px;\n",
              "    }\n",
              "\n",
              "    .colab-df-convert:hover {\n",
              "      background-color: #E2EBFA;\n",
              "      box-shadow: 0px 1px 2px rgba(60, 64, 67, 0.3), 0px 1px 3px 1px rgba(60, 64, 67, 0.15);\n",
              "      fill: #174EA6;\n",
              "    }\n",
              "\n",
              "    [theme=dark] .colab-df-convert {\n",
              "      background-color: #3B4455;\n",
              "      fill: #D2E3FC;\n",
              "    }\n",
              "\n",
              "    [theme=dark] .colab-df-convert:hover {\n",
              "      background-color: #434B5C;\n",
              "      box-shadow: 0px 1px 3px 1px rgba(0, 0, 0, 0.15);\n",
              "      filter: drop-shadow(0px 1px 2px rgba(0, 0, 0, 0.3));\n",
              "      fill: #FFFFFF;\n",
              "    }\n",
              "  </style>\n",
              "\n",
              "      <script>\n",
              "        const buttonEl =\n",
              "          document.querySelector('#df-81c157e0-dc0e-4aba-99b6-a68993ce9b11 button.colab-df-convert');\n",
              "        buttonEl.style.display =\n",
              "          google.colab.kernel.accessAllowed ? 'block' : 'none';\n",
              "\n",
              "        async function convertToInteractive(key) {\n",
              "          const element = document.querySelector('#df-81c157e0-dc0e-4aba-99b6-a68993ce9b11');\n",
              "          const dataTable =\n",
              "            await google.colab.kernel.invokeFunction('convertToInteractive',\n",
              "                                                     [key], {});\n",
              "          if (!dataTable) return;\n",
              "\n",
              "          const docLinkHtml = 'Like what you see? Visit the ' +\n",
              "            '<a target=\"_blank\" href=https://colab.research.google.com/notebooks/data_table.ipynb>data table notebook</a>'\n",
              "            + ' to learn more about interactive tables.';\n",
              "          element.innerHTML = '';\n",
              "          dataTable['output_type'] = 'display_data';\n",
              "          await google.colab.output.renderOutput(dataTable, element);\n",
              "          const docLink = document.createElement('div');\n",
              "          docLink.innerHTML = docLinkHtml;\n",
              "          element.appendChild(docLink);\n",
              "        }\n",
              "      </script>\n",
              "    </div>\n",
              "  </div>\n"
            ]
          },
          "metadata": {},
          "execution_count": 84
        }
      ]
    },
    {
      "cell_type": "markdown",
      "source": [
        "Now:\n",
        "\n",
        "1. Group the `users_copy` dataframe by `country` and `alpha_3` columns, aggregate `alpha_3` column for `count` aggregate function(consider `Users` as its name).\n",
        "2. Reset indices of previous step result."
      ],
      "metadata": {
        "id": "BJFNl84FfHzw"
      }
    },
    {
      "cell_type": "code",
      "source": [
        "# GRADED CELL\n",
        "\n",
        "### START CODE HERE ### (≈ 1-2 lines of code)\n",
        "users_map = users_copy.groupby(['country', 'alpha_3'])['alpha_3'].agg(Users='count').reset_index()\n",
        "\n",
        "users_map['Users(log)'] = np.log10(users_map[\"Users\"])"
      ],
      "metadata": {
        "id": "EywqoC3urAjr"
      },
      "execution_count": 85,
      "outputs": []
    },
    {
      "cell_type": "code",
      "source": [
        "users_map.head()"
      ],
      "metadata": {
        "id": "Sqh93IatxU7v",
        "colab": {
          "base_uri": "https://localhost:8080/",
          "height": 206
        },
        "outputId": "b6fafab4-2b50-4f59-b289-71135ef3dbed"
      },
      "execution_count": 86,
      "outputs": [
        {
          "output_type": "execute_result",
          "data": {
            "text/plain": [
              "          country alpha_3  Users  Users(log)\n",
              "0     Afghanistan     AFG     30    1.477121\n",
              "1         Albania     ALB     31    1.491362\n",
              "2         Algeria     DZA     28    1.447158\n",
              "3  American Samoa     ASM      2    0.301030\n",
              "4         Andorra     AND     42    1.623249"
            ],
            "text/html": [
              "\n",
              "\n",
              "  <div id=\"df-4f35b54d-bc4a-467b-9707-b132f102a255\">\n",
              "    <div class=\"colab-df-container\">\n",
              "      <div>\n",
              "<style scoped>\n",
              "    .dataframe tbody tr th:only-of-type {\n",
              "        vertical-align: middle;\n",
              "    }\n",
              "\n",
              "    .dataframe tbody tr th {\n",
              "        vertical-align: top;\n",
              "    }\n",
              "\n",
              "    .dataframe thead th {\n",
              "        text-align: right;\n",
              "    }\n",
              "</style>\n",
              "<table border=\"1\" class=\"dataframe\">\n",
              "  <thead>\n",
              "    <tr style=\"text-align: right;\">\n",
              "      <th></th>\n",
              "      <th>country</th>\n",
              "      <th>alpha_3</th>\n",
              "      <th>Users</th>\n",
              "      <th>Users(log)</th>\n",
              "    </tr>\n",
              "  </thead>\n",
              "  <tbody>\n",
              "    <tr>\n",
              "      <th>0</th>\n",
              "      <td>Afghanistan</td>\n",
              "      <td>AFG</td>\n",
              "      <td>30</td>\n",
              "      <td>1.477121</td>\n",
              "    </tr>\n",
              "    <tr>\n",
              "      <th>1</th>\n",
              "      <td>Albania</td>\n",
              "      <td>ALB</td>\n",
              "      <td>31</td>\n",
              "      <td>1.491362</td>\n",
              "    </tr>\n",
              "    <tr>\n",
              "      <th>2</th>\n",
              "      <td>Algeria</td>\n",
              "      <td>DZA</td>\n",
              "      <td>28</td>\n",
              "      <td>1.447158</td>\n",
              "    </tr>\n",
              "    <tr>\n",
              "      <th>3</th>\n",
              "      <td>American Samoa</td>\n",
              "      <td>ASM</td>\n",
              "      <td>2</td>\n",
              "      <td>0.301030</td>\n",
              "    </tr>\n",
              "    <tr>\n",
              "      <th>4</th>\n",
              "      <td>Andorra</td>\n",
              "      <td>AND</td>\n",
              "      <td>42</td>\n",
              "      <td>1.623249</td>\n",
              "    </tr>\n",
              "  </tbody>\n",
              "</table>\n",
              "</div>\n",
              "      <button class=\"colab-df-convert\" onclick=\"convertToInteractive('df-4f35b54d-bc4a-467b-9707-b132f102a255')\"\n",
              "              title=\"Convert this dataframe to an interactive table.\"\n",
              "              style=\"display:none;\">\n",
              "\n",
              "  <svg xmlns=\"http://www.w3.org/2000/svg\" height=\"24px\"viewBox=\"0 0 24 24\"\n",
              "       width=\"24px\">\n",
              "    <path d=\"M0 0h24v24H0V0z\" fill=\"none\"/>\n",
              "    <path d=\"M18.56 5.44l.94 2.06.94-2.06 2.06-.94-2.06-.94-.94-2.06-.94 2.06-2.06.94zm-11 1L8.5 8.5l.94-2.06 2.06-.94-2.06-.94L8.5 2.5l-.94 2.06-2.06.94zm10 10l.94 2.06.94-2.06 2.06-.94-2.06-.94-.94-2.06-.94 2.06-2.06.94z\"/><path d=\"M17.41 7.96l-1.37-1.37c-.4-.4-.92-.59-1.43-.59-.52 0-1.04.2-1.43.59L10.3 9.45l-7.72 7.72c-.78.78-.78 2.05 0 2.83L4 21.41c.39.39.9.59 1.41.59.51 0 1.02-.2 1.41-.59l7.78-7.78 2.81-2.81c.8-.78.8-2.07 0-2.86zM5.41 20L4 18.59l7.72-7.72 1.47 1.35L5.41 20z\"/>\n",
              "  </svg>\n",
              "      </button>\n",
              "\n",
              "\n",
              "\n",
              "    <div id=\"df-3dba3d23-0cb6-4487-8351-be2aad71eb7d\">\n",
              "      <button class=\"colab-df-quickchart\" onclick=\"quickchart('df-3dba3d23-0cb6-4487-8351-be2aad71eb7d')\"\n",
              "              title=\"Suggest charts.\"\n",
              "              style=\"display:none;\">\n",
              "\n",
              "<svg xmlns=\"http://www.w3.org/2000/svg\" height=\"24px\"viewBox=\"0 0 24 24\"\n",
              "     width=\"24px\">\n",
              "    <g>\n",
              "        <path d=\"M19 3H5c-1.1 0-2 .9-2 2v14c0 1.1.9 2 2 2h14c1.1 0 2-.9 2-2V5c0-1.1-.9-2-2-2zM9 17H7v-7h2v7zm4 0h-2V7h2v10zm4 0h-2v-4h2v4z\"/>\n",
              "    </g>\n",
              "</svg>\n",
              "      </button>\n",
              "    </div>\n",
              "\n",
              "<style>\n",
              "  .colab-df-quickchart {\n",
              "    background-color: #E8F0FE;\n",
              "    border: none;\n",
              "    border-radius: 50%;\n",
              "    cursor: pointer;\n",
              "    display: none;\n",
              "    fill: #1967D2;\n",
              "    height: 32px;\n",
              "    padding: 0 0 0 0;\n",
              "    width: 32px;\n",
              "  }\n",
              "\n",
              "  .colab-df-quickchart:hover {\n",
              "    background-color: #E2EBFA;\n",
              "    box-shadow: 0px 1px 2px rgba(60, 64, 67, 0.3), 0px 1px 3px 1px rgba(60, 64, 67, 0.15);\n",
              "    fill: #174EA6;\n",
              "  }\n",
              "\n",
              "  [theme=dark] .colab-df-quickchart {\n",
              "    background-color: #3B4455;\n",
              "    fill: #D2E3FC;\n",
              "  }\n",
              "\n",
              "  [theme=dark] .colab-df-quickchart:hover {\n",
              "    background-color: #434B5C;\n",
              "    box-shadow: 0px 1px 3px 1px rgba(0, 0, 0, 0.15);\n",
              "    filter: drop-shadow(0px 1px 2px rgba(0, 0, 0, 0.3));\n",
              "    fill: #FFFFFF;\n",
              "  }\n",
              "</style>\n",
              "\n",
              "    <script>\n",
              "      async function quickchart(key) {\n",
              "        const containerElement = document.querySelector('#' + key);\n",
              "        const charts = await google.colab.kernel.invokeFunction(\n",
              "            'suggestCharts', [key], {});\n",
              "      }\n",
              "    </script>\n",
              "\n",
              "      <script>\n",
              "\n",
              "function displayQuickchartButton(domScope) {\n",
              "  let quickchartButtonEl =\n",
              "    domScope.querySelector('#df-3dba3d23-0cb6-4487-8351-be2aad71eb7d button.colab-df-quickchart');\n",
              "  quickchartButtonEl.style.display =\n",
              "    google.colab.kernel.accessAllowed ? 'block' : 'none';\n",
              "}\n",
              "\n",
              "        displayQuickchartButton(document);\n",
              "      </script>\n",
              "      <style>\n",
              "    .colab-df-container {\n",
              "      display:flex;\n",
              "      flex-wrap:wrap;\n",
              "      gap: 12px;\n",
              "    }\n",
              "\n",
              "    .colab-df-convert {\n",
              "      background-color: #E8F0FE;\n",
              "      border: none;\n",
              "      border-radius: 50%;\n",
              "      cursor: pointer;\n",
              "      display: none;\n",
              "      fill: #1967D2;\n",
              "      height: 32px;\n",
              "      padding: 0 0 0 0;\n",
              "      width: 32px;\n",
              "    }\n",
              "\n",
              "    .colab-df-convert:hover {\n",
              "      background-color: #E2EBFA;\n",
              "      box-shadow: 0px 1px 2px rgba(60, 64, 67, 0.3), 0px 1px 3px 1px rgba(60, 64, 67, 0.15);\n",
              "      fill: #174EA6;\n",
              "    }\n",
              "\n",
              "    [theme=dark] .colab-df-convert {\n",
              "      background-color: #3B4455;\n",
              "      fill: #D2E3FC;\n",
              "    }\n",
              "\n",
              "    [theme=dark] .colab-df-convert:hover {\n",
              "      background-color: #434B5C;\n",
              "      box-shadow: 0px 1px 3px 1px rgba(0, 0, 0, 0.15);\n",
              "      filter: drop-shadow(0px 1px 2px rgba(0, 0, 0, 0.3));\n",
              "      fill: #FFFFFF;\n",
              "    }\n",
              "  </style>\n",
              "\n",
              "      <script>\n",
              "        const buttonEl =\n",
              "          document.querySelector('#df-4f35b54d-bc4a-467b-9707-b132f102a255 button.colab-df-convert');\n",
              "        buttonEl.style.display =\n",
              "          google.colab.kernel.accessAllowed ? 'block' : 'none';\n",
              "\n",
              "        async function convertToInteractive(key) {\n",
              "          const element = document.querySelector('#df-4f35b54d-bc4a-467b-9707-b132f102a255');\n",
              "          const dataTable =\n",
              "            await google.colab.kernel.invokeFunction('convertToInteractive',\n",
              "                                                     [key], {});\n",
              "          if (!dataTable) return;\n",
              "\n",
              "          const docLinkHtml = 'Like what you see? Visit the ' +\n",
              "            '<a target=\"_blank\" href=https://colab.research.google.com/notebooks/data_table.ipynb>data table notebook</a>'\n",
              "            + ' to learn more about interactive tables.';\n",
              "          element.innerHTML = '';\n",
              "          dataTable['output_type'] = 'display_data';\n",
              "          await google.colab.output.renderOutput(dataTable, element);\n",
              "          const docLink = document.createElement('div');\n",
              "          docLink.innerHTML = docLinkHtml;\n",
              "          element.appendChild(docLink);\n",
              "        }\n",
              "      </script>\n",
              "    </div>\n",
              "  </div>\n"
            ]
          },
          "metadata": {},
          "execution_count": 86
        }
      ]
    },
    {
      "cell_type": "code",
      "source": [
        "fig = px.choropleth(users_map, locations=\"alpha_3\",\n",
        "                    color='Users(log)',\n",
        "                    hover_name=\"country\",\n",
        "                    hover_data=[\"Users\"],\n",
        "                    color_continuous_scale='Cividis')\n",
        "fig.update_layout(title_text=\"Unique Users\")\n",
        "fig.update_layout(coloraxis_colorbar=dict(title='Users', tickprefix='1.e'))\n",
        "fig.show()"
      ],
      "metadata": {
        "id": "pul0mY9DrQSI",
        "colab": {
          "base_uri": "https://localhost:8080/",
          "height": 542
        },
        "outputId": "e4c6d036-7021-410a-96c4-4415dfd60d35"
      },
      "execution_count": 87,
      "outputs": [
        {
          "output_type": "display_data",
          "data": {
            "text/html": [
              "<html>\n",
              "<head><meta charset=\"utf-8\" /></head>\n",
              "<body>\n",
              "    <div>            <script src=\"https://cdnjs.cloudflare.com/ajax/libs/mathjax/2.7.5/MathJax.js?config=TeX-AMS-MML_SVG\"></script><script type=\"text/javascript\">if (window.MathJax && window.MathJax.Hub && window.MathJax.Hub.Config) {window.MathJax.Hub.Config({SVG: {font: \"STIX-Web\"}});}</script>                <script type=\"text/javascript\">window.PlotlyConfig = {MathJaxConfig: 'local'};</script>\n",
              "        <script src=\"https://cdn.plot.ly/plotly-2.18.2.min.js\"></script>                <div id=\"8d63f73b-5d57-4e61-b121-0d2bd0589b06\" class=\"plotly-graph-div\" style=\"height:525px; width:100%;\"></div>            <script type=\"text/javascript\">                                    window.PLOTLYENV=window.PLOTLYENV || {};                                    if (document.getElementById(\"8d63f73b-5d57-4e61-b121-0d2bd0589b06\")) {                    Plotly.newPlot(                        \"8d63f73b-5d57-4e61-b121-0d2bd0589b06\",                        [{\"coloraxis\":\"coloraxis\",\"customdata\":[[30],[31],[28],[2],[42],[5],[27],[8],[1075],[9],[4],[11730],[1134],[10],[38],[16],[43],[18],[14],[818],[23],[13],[26],[3],[39],[59],[8],[1668],[20],[133],[6],[7],[7],[8],[21601],[11],[2],[351],[1482],[132],[1],[4],[161],[244],[36],[27],[197],[802],[2],[7],[30],[37],[135],[26],[8],[22],[2],[12],[1],[12],[921],[3440],[8],[14],[17024],[77],[416],[19],[1],[45],[11],[2],[2],[10],[2],[25],[169],[96],[51],[1278],[302],[396],[16],[749],[1],[345],[11243],[37],[264],[15],[22],[12],[27],[1],[3],[221],[36],[4],[7],[40],[36],[4],[1],[3],[41],[104],[3],[1],[2],[1104],[3],[2],[33],[2],[1],[20],[803],[2],[9],[8],[4],[34],[10],[1],[3],[21],[3019],[3072],[17],[6],[217],[31],[288],[26],[439],[2],[1],[37],[8],[46],[140],[721],[453],[3312],[21],[18],[357],[179],[6],[2],[5],[6],[5],[3],[1],[65],[5],[3],[2],[923],[213],[142],[2],[1],[326],[13096],[55],[10],[4],[1401],[1739],[12],[166],[3],[6],[84],[6],[2],[31],[8],[489],[2],[7],[41],[62],[18313],[139436],[7348],[20],[23],[3],[139],[139],[2],[8],[5],[24]],\"geo\":\"geo\",\"hovertemplate\":\"<b>%{hovertext}</b><br><br>alpha_3=%{location}<br>Users=%{customdata[0]}<br>Users(log)=%{z}<extra></extra>\",\"hovertext\":[\"Afghanistan\",\"Albania\",\"Algeria\",\"American Samoa\",\"Andorra\",\"Angola\",\"Antarctica\",\"Antigua and Barbuda\",\"Argentina\",\"Armenia\",\"Aruba\",\"Australia\",\"Austria\",\"Azerbaijan\",\"Bahamas\",\"Bahrain\",\"Bangladesh\",\"Barbados\",\"Belarus\",\"Belgium\",\"Belize\",\"Benin\",\"Bermuda\",\"Bhutan\",\"Bolivia, Plurinational State of\",\"Bosnia and Herzegovina\",\"Botswana\",\"Brazil\",\"Brunei Darussalam\",\"Bulgaria\",\"Burkina Faso\",\"Cabo Verde\",\"Cambodia\",\"Cameroon\",\"Canada\",\"Cayman Islands\",\"Chad\",\"Chile\",\"China\",\"Colombia\",\"Comoros\",\"Congo\",\"Costa Rica\",\"Croatia\",\"Cuba\",\"Cyprus\",\"Czechia\",\"Denmark\",\"Djibouti\",\"Dominica\",\"Dominican Republic\",\"Ecuador\",\"Egypt\",\"El Salvador\",\"Eritrea\",\"Estonia\",\"Eswatini\",\"Ethiopia\",\"Faroe Islands\",\"Fiji\",\"Finland\",\"France\",\"Gabon\",\"Georgia\",\"Germany\",\"Ghana\",\"Greece\",\"Grenada\",\"Guam\",\"Guatemala\",\"Guernsey\",\"Guinea\",\"Guinea-Bissau\",\"Guyana\",\"Haiti\",\"Honduras\",\"Hong Kong\",\"Hungary\",\"Iceland\",\"India\",\"Indonesia\",\"Iran, Islamic Republic of\",\"Iraq\",\"Ireland\",\"Isle of Man\",\"Israel\",\"Italy\",\"Jamaica\",\"Japan\",\"Jersey\",\"Jordan\",\"Kazakhstan\",\"Kenya\",\"Kiribati\",\"Korea, Democratic People's Republic of\",\"Korea, Republic of\",\"Kuwait\",\"Kyrgyzstan\",\"Lao People's Democratic Republic\",\"Latvia\",\"Lebanon\",\"Lesotho\",\"Liberia\",\"Libya\",\"Lithuania\",\"Luxembourg\",\"Macao\",\"Madagascar\",\"Malawi\",\"Malaysia\",\"Maldives\",\"Mali\",\"Malta\",\"Marshall Islands\",\"Mauritania\",\"Mauritius\",\"Mexico\",\"Micronesia, Federated States of\",\"Moldova, Republic of\",\"Monaco\",\"Mongolia\",\"Morocco\",\"Mozambique\",\"Myanmar\",\"Namibia\",\"Nepal\",\"Netherlands\",\"New Zealand\",\"Nicaragua\",\"Niger\",\"Nigeria\",\"North Macedonia\",\"Norway\",\"Oman\",\"Pakistan\",\"Palau\",\"Palestine, State of\",\"Panama\",\"Papua New Guinea\",\"Paraguay\",\"Peru\",\"Philippines\",\"Poland\",\"Portugal\",\"Puerto Rico\",\"Qatar\",\"Romania\",\"Russian Federation\",\"Rwanda\",\"Saint Kitts and Nevis\",\"Saint Lucia\",\"Saint Vincent and the Grenadines\",\"Samoa\",\"San Marino\",\"Sao Tome and Principe\",\"Saudi Arabia\",\"Senegal\",\"Serbia\",\"Sierra Leone\",\"Singapore\",\"Slovakia\",\"Slovenia\",\"Solomon Islands\",\"Somalia\",\"South Africa\",\"Spain\",\"Sri Lanka\",\"Sudan\",\"Suriname\",\"Sweden\",\"Switzerland\",\"Syrian Arab Republic\",\"Taiwan, Province of China\",\"Tajikistan\",\"Tanzania, United Republic of\",\"Thailand\",\"Togo\",\"Tonga\",\"Trinidad and Tobago\",\"Tunisia\",\"Turkey\",\"Turkmenistan\",\"Uganda\",\"Ukraine\",\"United Arab Emirates\",\"United Kingdom\",\"United States\",\"Unknown\",\"Uruguay\",\"Uzbekistan\",\"Vanuatu\",\"Venezuela, Bolivarian Republic of\",\"Viet Nam\",\"Virgin Islands, British\",\"Yemen\",\"Zambia\",\"Zimbabwe\"],\"locations\":[\"AFG\",\"ALB\",\"DZA\",\"ASM\",\"AND\",\"AGO\",\"ATA\",\"ATG\",\"ARG\",\"ARM\",\"ABW\",\"AUS\",\"AUT\",\"AZE\",\"BHS\",\"BHR\",\"BGD\",\"BRB\",\"BLR\",\"BEL\",\"BLZ\",\"BEN\",\"BMU\",\"BTN\",\"BOL\",\"BIH\",\"BWA\",\"BRA\",\"BRN\",\"BGR\",\"BFA\",\"CPV\",\"KHM\",\"CMR\",\"CAN\",\"CYM\",\"TCD\",\"CHL\",\"CHN\",\"COL\",\"COM\",\"COG\",\"CRI\",\"HRV\",\"CUB\",\"CYP\",\"CZE\",\"DNK\",\"DJI\",\"DMA\",\"DOM\",\"ECU\",\"EGY\",\"SLV\",\"ERI\",\"EST\",\"SWZ\",\"ETH\",\"FRO\",\"FJI\",\"FIN\",\"FRA\",\"GAB\",\"GEO\",\"DEU\",\"GHA\",\"GRC\",\"GRD\",\"GUM\",\"GTM\",\"GGY\",\"GIN\",\"GNB\",\"GUY\",\"HTI\",\"HND\",\"HKG\",\"HUN\",\"ISL\",\"IND\",\"IDN\",\"IRN\",\"IRQ\",\"IRL\",\"IMN\",\"ISR\",\"ITA\",\"JAM\",\"JPN\",\"JEY\",\"JOR\",\"KAZ\",\"KEN\",\"KIR\",\"PRK\",\"KOR\",\"KWT\",\"KGZ\",\"LAO\",\"LVA\",\"LBN\",\"LSO\",\"LBR\",\"LBY\",\"LTU\",\"LUX\",\"MAC\",\"MDG\",\"MWI\",\"MYS\",\"MDV\",\"MLI\",\"MLT\",\"MHL\",\"MRT\",\"MUS\",\"MEX\",\"FSM\",\"MDA\",\"MCO\",\"MNG\",\"MAR\",\"MOZ\",\"MMR\",\"NAM\",\"NPL\",\"NLD\",\"NZL\",\"NIC\",\"NER\",\"NGA\",\"MKD\",\"NOR\",\"OMN\",\"PAK\",\"PLW\",\"PSE\",\"PAN\",\"PNG\",\"PRY\",\"PER\",\"PHL\",\"POL\",\"PRT\",\"PRI\",\"QAT\",\"ROU\",\"RUS\",\"RWA\",\"KNA\",\"LCA\",\"VCT\",\"WSM\",\"SMR\",\"STP\",\"SAU\",\"SEN\",\"SRB\",\"SLE\",\"SGP\",\"SVK\",\"SVN\",\"SLB\",\"SOM\",\"ZAF\",\"ESP\",\"LKA\",\"SDN\",\"SUR\",\"SWE\",\"CHE\",\"SYR\",\"TWN\",\"TJK\",\"TZA\",\"THA\",\"TGO\",\"TON\",\"TTO\",\"TUN\",\"TUR\",\"TKM\",\"UGA\",\"UKR\",\"ARE\",\"GBR\",\"USA\",\"Unknown\",\"URY\",\"UZB\",\"VUT\",\"VEN\",\"VNM\",\"VGB\",\"YEM\",\"ZMB\",\"ZWE\"],\"name\":\"\",\"z\":[1.4771212547196624,1.4913616938342726,1.4471580313422192,0.3010299956639812,1.6232492903979006,0.6989700043360189,1.4313637641589874,0.9030899869919435,3.031408464251624,0.9542425094393249,0.6020599913279624,4.069298012115529,3.0546130545568877,1.0,1.5797835966168101,1.2041199826559248,1.6334684555795866,1.255272505103306,1.146128035678238,2.912753303671323,1.3617278360175928,1.1139433523068367,1.414973347970818,0.47712125471966244,1.591064607026499,1.7708520116421442,0.9030899869919435,3.22219604630172,1.3010299956639813,2.123851640967086,0.7781512503836436,0.8450980400142568,0.8450980400142568,0.9030899869919435,4.334473856911537,1.041392685158225,0.3010299956639812,2.545307116465824,3.170848203643309,2.12057393120585,0.0,0.6020599913279624,2.2068258760318495,2.3873898263387296,1.5563025007672873,1.4313637641589874,2.294466226161593,2.9041743682841634,0.3010299956639812,0.8450980400142568,1.4771212547196624,1.568201724066995,2.130333768495006,1.414973347970818,0.9030899869919435,1.3424226808222062,0.3010299956639812,1.0791812460476249,0.0,1.0791812460476249,2.964259630196849,3.53655844257153,0.9030899869919435,1.146128035678238,4.231061610614955,1.8864907251724818,2.6190933306267428,1.2787536009528289,0.0,1.6532125137753437,1.041392685158225,0.3010299956639812,0.3010299956639812,1.0,0.3010299956639812,1.3979400086720377,2.2278867046136734,1.9822712330395684,1.7075701760979363,3.1065308538223815,2.4800069429571505,2.597695185925512,1.2041199826559248,2.8744818176994666,0.0,2.537819095073274,4.05088221066403,1.568201724066995,2.4216039268698313,1.1760912590556813,1.3424226808222062,1.0791812460476249,1.4313637641589874,0.0,0.47712125471966244,2.3443922736851106,1.5563025007672873,0.6020599913279624,0.8450980400142568,1.6020599913279625,1.5563025007672873,0.6020599913279624,0.0,0.47712125471966244,1.6127838567197355,2.0170333392987803,0.47712125471966244,0.0,0.3010299956639812,3.0429690733931802,0.47712125471966244,0.3010299956639812,1.5185139398778875,0.3010299956639812,0.0,1.3010299956639813,2.904715545278681,0.3010299956639812,0.9542425094393249,0.9030899869919435,0.6020599913279624,1.5314789170422551,1.0,0.0,0.47712125471966244,1.3222192947339193,3.479863113023098,3.4874212113594742,1.2304489213782739,0.7781512503836436,2.3364597338485296,1.4913616938342726,2.459392487759231,1.414973347970818,2.6424645202421213,0.3010299956639812,0.0,1.568201724066995,0.9030899869919435,1.662757831681574,2.146128035678238,2.857935264719429,2.656098202012832,3.5200903281128424,1.3222192947339193,1.255272505103306,2.552668216112193,2.2528530309798933,0.7781512503836436,0.3010299956639812,0.6989700043360189,0.7781512503836436,0.6989700043360189,0.47712125471966244,0.0,1.8129133566428555,0.6989700043360189,0.47712125471966244,0.3010299956639812,2.965201701025912,2.3283796034387376,2.1522883443830563,0.3010299956639812,0.0,2.513217600067939,4.117138666403885,1.7403626894942439,1.0,0.6020599913279624,3.1464381352857744,3.2402995820027125,1.0791812460476249,2.220108088040055,0.47712125471966244,0.7781512503836436,1.9242792860618816,0.7781512503836436,0.3010299956639812,1.4913616938342726,0.9030899869919435,2.6893088591236203,0.3010299956639812,0.8450980400142568,1.6127838567197355,1.792391689498254,4.262759495406119,5.1443749156764875,3.8661691476337707,1.3010299956639813,1.3617278360175928,0.47712125471966244,2.143014800254095,2.143014800254095,0.3010299956639812,0.9030899869919435,0.6989700043360189,1.380211241711606],\"type\":\"choropleth\"}],                        {\"template\":{\"data\":{\"histogram2dcontour\":[{\"type\":\"histogram2dcontour\",\"colorbar\":{\"outlinewidth\":0,\"ticks\":\"\"},\"colorscale\":[[0.0,\"#0d0887\"],[0.1111111111111111,\"#46039f\"],[0.2222222222222222,\"#7201a8\"],[0.3333333333333333,\"#9c179e\"],[0.4444444444444444,\"#bd3786\"],[0.5555555555555556,\"#d8576b\"],[0.6666666666666666,\"#ed7953\"],[0.7777777777777778,\"#fb9f3a\"],[0.8888888888888888,\"#fdca26\"],[1.0,\"#f0f921\"]]}],\"choropleth\":[{\"type\":\"choropleth\",\"colorbar\":{\"outlinewidth\":0,\"ticks\":\"\"}}],\"histogram2d\":[{\"type\":\"histogram2d\",\"colorbar\":{\"outlinewidth\":0,\"ticks\":\"\"},\"colorscale\":[[0.0,\"#0d0887\"],[0.1111111111111111,\"#46039f\"],[0.2222222222222222,\"#7201a8\"],[0.3333333333333333,\"#9c179e\"],[0.4444444444444444,\"#bd3786\"],[0.5555555555555556,\"#d8576b\"],[0.6666666666666666,\"#ed7953\"],[0.7777777777777778,\"#fb9f3a\"],[0.8888888888888888,\"#fdca26\"],[1.0,\"#f0f921\"]]}],\"heatmap\":[{\"type\":\"heatmap\",\"colorbar\":{\"outlinewidth\":0,\"ticks\":\"\"},\"colorscale\":[[0.0,\"#0d0887\"],[0.1111111111111111,\"#46039f\"],[0.2222222222222222,\"#7201a8\"],[0.3333333333333333,\"#9c179e\"],[0.4444444444444444,\"#bd3786\"],[0.5555555555555556,\"#d8576b\"],[0.6666666666666666,\"#ed7953\"],[0.7777777777777778,\"#fb9f3a\"],[0.8888888888888888,\"#fdca26\"],[1.0,\"#f0f921\"]]}],\"heatmapgl\":[{\"type\":\"heatmapgl\",\"colorbar\":{\"outlinewidth\":0,\"ticks\":\"\"},\"colorscale\":[[0.0,\"#0d0887\"],[0.1111111111111111,\"#46039f\"],[0.2222222222222222,\"#7201a8\"],[0.3333333333333333,\"#9c179e\"],[0.4444444444444444,\"#bd3786\"],[0.5555555555555556,\"#d8576b\"],[0.6666666666666666,\"#ed7953\"],[0.7777777777777778,\"#fb9f3a\"],[0.8888888888888888,\"#fdca26\"],[1.0,\"#f0f921\"]]}],\"contourcarpet\":[{\"type\":\"contourcarpet\",\"colorbar\":{\"outlinewidth\":0,\"ticks\":\"\"}}],\"contour\":[{\"type\":\"contour\",\"colorbar\":{\"outlinewidth\":0,\"ticks\":\"\"},\"colorscale\":[[0.0,\"#0d0887\"],[0.1111111111111111,\"#46039f\"],[0.2222222222222222,\"#7201a8\"],[0.3333333333333333,\"#9c179e\"],[0.4444444444444444,\"#bd3786\"],[0.5555555555555556,\"#d8576b\"],[0.6666666666666666,\"#ed7953\"],[0.7777777777777778,\"#fb9f3a\"],[0.8888888888888888,\"#fdca26\"],[1.0,\"#f0f921\"]]}],\"surface\":[{\"type\":\"surface\",\"colorbar\":{\"outlinewidth\":0,\"ticks\":\"\"},\"colorscale\":[[0.0,\"#0d0887\"],[0.1111111111111111,\"#46039f\"],[0.2222222222222222,\"#7201a8\"],[0.3333333333333333,\"#9c179e\"],[0.4444444444444444,\"#bd3786\"],[0.5555555555555556,\"#d8576b\"],[0.6666666666666666,\"#ed7953\"],[0.7777777777777778,\"#fb9f3a\"],[0.8888888888888888,\"#fdca26\"],[1.0,\"#f0f921\"]]}],\"mesh3d\":[{\"type\":\"mesh3d\",\"colorbar\":{\"outlinewidth\":0,\"ticks\":\"\"}}],\"scatter\":[{\"fillpattern\":{\"fillmode\":\"overlay\",\"size\":10,\"solidity\":0.2},\"type\":\"scatter\"}],\"parcoords\":[{\"type\":\"parcoords\",\"line\":{\"colorbar\":{\"outlinewidth\":0,\"ticks\":\"\"}}}],\"scatterpolargl\":[{\"type\":\"scatterpolargl\",\"marker\":{\"colorbar\":{\"outlinewidth\":0,\"ticks\":\"\"}}}],\"bar\":[{\"error_x\":{\"color\":\"#2a3f5f\"},\"error_y\":{\"color\":\"#2a3f5f\"},\"marker\":{\"line\":{\"color\":\"#E5ECF6\",\"width\":0.5},\"pattern\":{\"fillmode\":\"overlay\",\"size\":10,\"solidity\":0.2}},\"type\":\"bar\"}],\"scattergeo\":[{\"type\":\"scattergeo\",\"marker\":{\"colorbar\":{\"outlinewidth\":0,\"ticks\":\"\"}}}],\"scatterpolar\":[{\"type\":\"scatterpolar\",\"marker\":{\"colorbar\":{\"outlinewidth\":0,\"ticks\":\"\"}}}],\"histogram\":[{\"marker\":{\"pattern\":{\"fillmode\":\"overlay\",\"size\":10,\"solidity\":0.2}},\"type\":\"histogram\"}],\"scattergl\":[{\"type\":\"scattergl\",\"marker\":{\"colorbar\":{\"outlinewidth\":0,\"ticks\":\"\"}}}],\"scatter3d\":[{\"type\":\"scatter3d\",\"line\":{\"colorbar\":{\"outlinewidth\":0,\"ticks\":\"\"}},\"marker\":{\"colorbar\":{\"outlinewidth\":0,\"ticks\":\"\"}}}],\"scattermapbox\":[{\"type\":\"scattermapbox\",\"marker\":{\"colorbar\":{\"outlinewidth\":0,\"ticks\":\"\"}}}],\"scatterternary\":[{\"type\":\"scatterternary\",\"marker\":{\"colorbar\":{\"outlinewidth\":0,\"ticks\":\"\"}}}],\"scattercarpet\":[{\"type\":\"scattercarpet\",\"marker\":{\"colorbar\":{\"outlinewidth\":0,\"ticks\":\"\"}}}],\"carpet\":[{\"aaxis\":{\"endlinecolor\":\"#2a3f5f\",\"gridcolor\":\"white\",\"linecolor\":\"white\",\"minorgridcolor\":\"white\",\"startlinecolor\":\"#2a3f5f\"},\"baxis\":{\"endlinecolor\":\"#2a3f5f\",\"gridcolor\":\"white\",\"linecolor\":\"white\",\"minorgridcolor\":\"white\",\"startlinecolor\":\"#2a3f5f\"},\"type\":\"carpet\"}],\"table\":[{\"cells\":{\"fill\":{\"color\":\"#EBF0F8\"},\"line\":{\"color\":\"white\"}},\"header\":{\"fill\":{\"color\":\"#C8D4E3\"},\"line\":{\"color\":\"white\"}},\"type\":\"table\"}],\"barpolar\":[{\"marker\":{\"line\":{\"color\":\"#E5ECF6\",\"width\":0.5},\"pattern\":{\"fillmode\":\"overlay\",\"size\":10,\"solidity\":0.2}},\"type\":\"barpolar\"}],\"pie\":[{\"automargin\":true,\"type\":\"pie\"}]},\"layout\":{\"autotypenumbers\":\"strict\",\"colorway\":[\"#636efa\",\"#EF553B\",\"#00cc96\",\"#ab63fa\",\"#FFA15A\",\"#19d3f3\",\"#FF6692\",\"#B6E880\",\"#FF97FF\",\"#FECB52\"],\"font\":{\"color\":\"#2a3f5f\"},\"hovermode\":\"closest\",\"hoverlabel\":{\"align\":\"left\"},\"paper_bgcolor\":\"white\",\"plot_bgcolor\":\"#E5ECF6\",\"polar\":{\"bgcolor\":\"#E5ECF6\",\"angularaxis\":{\"gridcolor\":\"white\",\"linecolor\":\"white\",\"ticks\":\"\"},\"radialaxis\":{\"gridcolor\":\"white\",\"linecolor\":\"white\",\"ticks\":\"\"}},\"ternary\":{\"bgcolor\":\"#E5ECF6\",\"aaxis\":{\"gridcolor\":\"white\",\"linecolor\":\"white\",\"ticks\":\"\"},\"baxis\":{\"gridcolor\":\"white\",\"linecolor\":\"white\",\"ticks\":\"\"},\"caxis\":{\"gridcolor\":\"white\",\"linecolor\":\"white\",\"ticks\":\"\"}},\"coloraxis\":{\"colorbar\":{\"outlinewidth\":0,\"ticks\":\"\"}},\"colorscale\":{\"sequential\":[[0.0,\"#0d0887\"],[0.1111111111111111,\"#46039f\"],[0.2222222222222222,\"#7201a8\"],[0.3333333333333333,\"#9c179e\"],[0.4444444444444444,\"#bd3786\"],[0.5555555555555556,\"#d8576b\"],[0.6666666666666666,\"#ed7953\"],[0.7777777777777778,\"#fb9f3a\"],[0.8888888888888888,\"#fdca26\"],[1.0,\"#f0f921\"]],\"sequentialminus\":[[0.0,\"#0d0887\"],[0.1111111111111111,\"#46039f\"],[0.2222222222222222,\"#7201a8\"],[0.3333333333333333,\"#9c179e\"],[0.4444444444444444,\"#bd3786\"],[0.5555555555555556,\"#d8576b\"],[0.6666666666666666,\"#ed7953\"],[0.7777777777777778,\"#fb9f3a\"],[0.8888888888888888,\"#fdca26\"],[1.0,\"#f0f921\"]],\"diverging\":[[0,\"#8e0152\"],[0.1,\"#c51b7d\"],[0.2,\"#de77ae\"],[0.3,\"#f1b6da\"],[0.4,\"#fde0ef\"],[0.5,\"#f7f7f7\"],[0.6,\"#e6f5d0\"],[0.7,\"#b8e186\"],[0.8,\"#7fbc41\"],[0.9,\"#4d9221\"],[1,\"#276419\"]]},\"xaxis\":{\"gridcolor\":\"white\",\"linecolor\":\"white\",\"ticks\":\"\",\"title\":{\"standoff\":15},\"zerolinecolor\":\"white\",\"automargin\":true,\"zerolinewidth\":2},\"yaxis\":{\"gridcolor\":\"white\",\"linecolor\":\"white\",\"ticks\":\"\",\"title\":{\"standoff\":15},\"zerolinecolor\":\"white\",\"automargin\":true,\"zerolinewidth\":2},\"scene\":{\"xaxis\":{\"backgroundcolor\":\"#E5ECF6\",\"gridcolor\":\"white\",\"linecolor\":\"white\",\"showbackground\":true,\"ticks\":\"\",\"zerolinecolor\":\"white\",\"gridwidth\":2},\"yaxis\":{\"backgroundcolor\":\"#E5ECF6\",\"gridcolor\":\"white\",\"linecolor\":\"white\",\"showbackground\":true,\"ticks\":\"\",\"zerolinecolor\":\"white\",\"gridwidth\":2},\"zaxis\":{\"backgroundcolor\":\"#E5ECF6\",\"gridcolor\":\"white\",\"linecolor\":\"white\",\"showbackground\":true,\"ticks\":\"\",\"zerolinecolor\":\"white\",\"gridwidth\":2}},\"shapedefaults\":{\"line\":{\"color\":\"#2a3f5f\"}},\"annotationdefaults\":{\"arrowcolor\":\"#2a3f5f\",\"arrowhead\":0,\"arrowwidth\":1},\"geo\":{\"bgcolor\":\"white\",\"landcolor\":\"#E5ECF6\",\"subunitcolor\":\"white\",\"showland\":true,\"showlakes\":true,\"lakecolor\":\"white\"},\"title\":{\"x\":0.05},\"mapbox\":{\"style\":\"light\"}}},\"geo\":{\"domain\":{\"x\":[0.0,1.0],\"y\":[0.0,1.0]},\"center\":{}},\"coloraxis\":{\"colorbar\":{\"title\":{\"text\":\"Users\"},\"tickprefix\":\"1.e\"},\"colorscale\":[[0.0,\"#00224e\"],[0.1111111111111111,\"#123570\"],[0.2222222222222222,\"#3b496c\"],[0.3333333333333333,\"#575d6d\"],[0.4444444444444444,\"#707173\"],[0.5555555555555556,\"#8a8678\"],[0.6666666666666666,\"#a59c74\"],[0.7777777777777778,\"#c3b369\"],[0.8888888888888888,\"#e1cc55\"],[1.0,\"#fee838\"]]},\"legend\":{\"tracegroupgap\":0},\"margin\":{\"t\":60},\"title\":{\"text\":\"Unique Users\"}},                        {\"responsive\": true}                    ).then(function(){\n",
              "                            \n",
              "var gd = document.getElementById('8d63f73b-5d57-4e61-b121-0d2bd0589b06');\n",
              "var x = new MutationObserver(function (mutations, observer) {{\n",
              "        var display = window.getComputedStyle(gd).display;\n",
              "        if (!display || display === 'none') {{\n",
              "            console.log([gd, 'removed!']);\n",
              "            Plotly.purge(gd);\n",
              "            observer.disconnect();\n",
              "        }}\n",
              "}});\n",
              "\n",
              "// Listen for the removal of the full notebook cells\n",
              "var notebookContainer = gd.closest('#notebook-container');\n",
              "if (notebookContainer) {{\n",
              "    x.observe(notebookContainer, {childList: true});\n",
              "}}\n",
              "\n",
              "// Listen for the clearing of the current output cell\n",
              "var outputEl = gd.closest('.output');\n",
              "if (outputEl) {{\n",
              "    x.observe(outputEl, {childList: true});\n",
              "}}\n",
              "\n",
              "                        })                };                            </script>        </div>\n",
              "</body>\n",
              "</html>"
            ]
          },
          "metadata": {}
        }
      ]
    },
    {
      "cell_type": "markdown",
      "source": [
        "Finally, save the `users` dataframe with `{FName_LName}_users_clean.csv` pattern(Don't add index column to output file).\n",
        "\n",
        "\n",
        "\n",
        "\n",
        "\n"
      ],
      "metadata": {
        "id": "lgVx8zJ6ksv3"
      }
    },
    {
      "cell_type": "code",
      "source": [
        "# GRADED CELL\n",
        "\n",
        "### START CODE HERE ### (≈ 1 line of code)\n",
        "output_file = \"Kamyar_Mohajerani_users_clean.csv\"\n",
        "users.to_csv(output_file, index = False)\n",
        "### END CODE HERE ###"
      ],
      "metadata": {
        "id": "18e1SC5i12w_"
      },
      "execution_count": 89,
      "outputs": []
    }
  ]
}